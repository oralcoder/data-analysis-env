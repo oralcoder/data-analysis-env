{
  "nbformat": 4,
  "nbformat_minor": 0,
  "metadata": {
    "colab": {
      "provenance": []
    },
    "kernelspec": {
      "name": "python3",
      "display_name": "Python 3"
    },
    "language_info": {
      "name": "python"
    }
  },
  "cells": [
    {
      "cell_type": "markdown",
      "source": [
        "# 공공 WiFi 설치 현황 데이터(wifi_data.csv)를 활용하여 아래 문제를 해결하시오."
      ],
      "metadata": {
        "id": "7qrBfO2veJ_T"
      }
    },
    {
      "cell_type": "markdown",
      "source": [
        "# 1) 다운로드한 free_wifi.csv 파일 읽어오기"
      ],
      "metadata": {
        "id": "i4d51D3ZeNTh"
      }
    },
    {
      "cell_type": "code",
      "execution_count": null,
      "metadata": {
        "id": "NAiXSFqleIe-"
      },
      "outputs": [],
      "source": [
        "# 소스코드 입력"
      ]
    },
    {
      "cell_type": "markdown",
      "source": [
        "# 2) 위에서부터 7개 데이터 출력"
      ],
      "metadata": {
        "id": "gyEu-2VGeR3r"
      }
    },
    {
      "cell_type": "code",
      "source": [
        "# 소스코드 입력"
      ],
      "metadata": {
        "id": "fXVrJ3q8eTls"
      },
      "execution_count": null,
      "outputs": []
    },
    {
      "cell_type": "markdown",
      "source": [
        "# 3) 번호 컬럼 삭제"
      ],
      "metadata": {
        "id": "HVz4onRQeT-U"
      }
    },
    {
      "cell_type": "code",
      "source": [
        "# 소스코드 입력"
      ],
      "metadata": {
        "id": "atZY5wG4eV67"
      },
      "execution_count": null,
      "outputs": []
    }
  ]
}